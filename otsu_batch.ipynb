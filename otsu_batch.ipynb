{
 "cells": [
  {
   "cell_type": "markdown",
   "metadata": {},
   "source": [
    "# [Lab Session 2](otsu.ipynb)"
   ]
  },
  {
   "cell_type": "code",
   "execution_count": 40,
   "metadata": {},
   "outputs": [],
   "source": [
    "import numpy as np\n",
    "import matplotlib.pyplot as plt"
   ]
  },
  {
   "cell_type": "markdown",
   "metadata": {},
   "source": [
    "**[Task 2.1.]()** Implement Otsu thresholding as a re-usable function:"
   ]
  },
  {
   "cell_type": "code",
   "execution_count": 41,
   "metadata": {},
   "outputs": [],
   "source": [
    "def otsu_thresholding(img):\n",
    "    img = (img * 255).round().astype(np.uint8)\n",
    "    h = np.zeros(256)\n",
    "    for i in range(256):\n",
    "        h[i] = np.sum(img == i)\n",
    "    sum_all = np.dot(np.arange(256), h) #alle bins (Intensitätswerte) summieren, mit Gewichtung, h = histogram, an Stelle 21 mal h (Anzahl der Vorkommen von I 21), dot = Multiplikation \n",
    "    sum_B = 0\n",
    "    w_B = 0 #background\n",
    "    w_F = 0 #foreground\n",
    "    max_variance = 0\n",
    "    optimal_threshold = 0\n",
    "\n",
    "    total_pixels = img.size\n",
    "\n",
    "    #iteration über den arr<\n",
    "    for T in range(1, 256):\n",
    "        w_B += h[T - 1]\n",
    "        w_F = total_pixels - w_B\n",
    "        if w_B == 0 or w_F == 0:\n",
    "            continue\n",
    "\n",
    "        sum_B += (T - 1) * h[T - 1] #-1, weil bei 0 anfängt, Gewichtung mit [indx]\n",
    "        mean_B = sum_B / w_B\n",
    "        mean_F = (sum_all - sum_B) / w_F #sum_all = Formel Vorlesung mean intensity mit Gewichtung \n",
    "\n",
    "        var_B = np.sum(((np.arange(T) - mean_B) ** 2) * h[:T]) / w_B #Formel von Vorlesung\n",
    "        var_F = np.sum(((np.arange(T, 256) - mean_F) ** 2) * h[T:]) / w_F #Formel von Vorlesung\n",
    "\n",
    "        within_class_variance = w_B * var_B + w_F * var_F\n",
    "        \n",
    "        if within_class_variance < max_variance or max_variance == 0: #minimieren\n",
    "            max_variance = within_class_variance\n",
    "            optimal_threshold = T\n",
    "\n",
    "    print(f'Optimal threshold: {optimal_threshold}')\n",
    "\n",
    "\n",
    "\n",
    "    # Step 6: Apply the optimal threshold to segment the image\n",
    "    segmented_img = img >= optimal_threshold\n",
    "\n",
    "    \n",
    "\n",
    "    return optimal_threshold"
   ]
  },
  {
   "cell_type": "markdown",
   "metadata": {},
   "source": [
    "**[Task 2.2.]()** Implement a re-usable function to compute the Dice coefficient:"
   ]
  },
  {
   "cell_type": "code",
   "execution_count": 44,
   "metadata": {},
   "outputs": [],
   "source": [
    "img_ref = plt.imread('data/NIH3T3/gt/0.png')\n",
    "imgk = plt.imread('data/NIH3T3/im/dna-0.png')\n",
    "def compute_dice(bin1, bin2):\n",
    "    assert bin1.dtype == np.bool\n",
    "    assert bin2.dtype == np.bool\n",
    "    \n",
    "\n",
    "        \n",
    "    dice_coef = 2*((bin1**bin2).sum()) / (bin1.sum()+bin2.sum())\n",
    "    print(dice_coef)\n",
    "    return dice\n",
    "\n"
   ]
  },
  {
   "cell_type": "markdown",
   "metadata": {},
   "source": [
    "**[Task 2.3.]()** Test your implementations from above:"
   ]
  },
  {
   "cell_type": "code",
   "execution_count": 45,
   "metadata": {},
   "outputs": [
    {
     "name": "stdout",
     "output_type": "stream",
     "text": [
      "Optimal threshold: 255\n"
     ]
    },
    {
     "data": {
      "text/plain": [
       "255"
      ]
     },
     "execution_count": 45,
     "metadata": {},
     "output_type": "execute_result"
    }
   ],
   "source": [
    "otsu_thresholding(img_ref)"
   ]
  },
  {
   "cell_type": "markdown",
   "metadata": {},
   "source": [
    "The result should be the same as in your [otsu.ipynb](otsu.ipynb) notebook."
   ]
  },
  {
   "cell_type": "markdown",
   "metadata": {},
   "source": [
    "**[Task 2.4.]()** Perform batch processing:"
   ]
  },
  {
   "cell_type": "code",
   "execution_count": null,
   "metadata": {},
   "outputs": [],
   "source": []
  }
 ],
 "metadata": {
  "kernelspec": {
   "display_name": "Python 3",
   "language": "python",
   "name": "python3"
  },
  "language_info": {
   "codemirror_mode": {
    "name": "ipython",
    "version": 3
   },
   "file_extension": ".py",
   "mimetype": "text/x-python",
   "name": "python",
   "nbconvert_exporter": "python",
   "pygments_lexer": "ipython3",
   "version": "3.12.7"
  }
 },
 "nbformat": 4,
 "nbformat_minor": 4
}
